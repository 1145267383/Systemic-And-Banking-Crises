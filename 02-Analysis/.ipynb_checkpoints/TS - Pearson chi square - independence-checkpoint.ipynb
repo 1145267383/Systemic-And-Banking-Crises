{
 "cells": [
  {
   "cell_type": "markdown",
   "metadata": {},
   "source": [
    "# Pearson Chi-Square Test of Independence\n",
    "*By P. Stikker*<br>\n",
    "https://PeterStatistics.com<br>\n",
    "https://www.youtube.com/stikpet<br>"
   ]
  },
  {
   "cell_type": "markdown",
   "metadata": {},
   "source": [
    "## Introduction"
   ]
  },
  {
   "cell_type": "markdown",
   "metadata": {},
   "source": [
    "To test if two nominal variables have an association, the most commonly used test is the Pearson chi-square test of independence. If the significance of this test is below 0.05, the two nominal variables have a significant association.\n",
    "\n",
    "One problem though is that the Pearson chi-square test should only be used if not too many cells have a so-called expected count, of less than 5, and the minimum expected count is at least 1. So you will also have to check first if these conditions are met. Most often ‘not too many cells’ is fixed at no more than 20% of the cells. Note that there are othes who would say that all cells should have an expected count of at least 5.\n",
    "\n",
    "Once you have checked the conditions and looked at the results, you can report the test results. In the example the percentage of cells with an expected count less than 5 is actually 0%, so it is okay to use the test.\n",
    "\n",
    "Lets see how this works with Python by example."
   ]
  },
  {
   "cell_type": "markdown",
   "metadata": {},
   "source": [
    "## Example"
   ]
  },
  {
   "cell_type": "markdown",
   "metadata": {},
   "source": [
    "The example data will be loaded as a Pandas Dataframe, so we'll need pandas:"
   ]
  },
  {
   "cell_type": "code",
   "execution_count": 1,
   "metadata": {},
   "outputs": [],
   "source": [
    "# !pip install pandas\n",
    "import pandas as pd     # https://pandas.pydata.org/"
   ]
  },
  {
   "cell_type": "markdown",
   "metadata": {},
   "source": [
    "To load the example data we can now use <a href=\"https://pandas.pydata.org/pandas-docs/stable/reference/api/pandas.read_csv.html\">'read_csv'</a>. "
   ]
  },
  {
   "cell_type": "code",
   "execution_count": 2,
   "metadata": {},
   "outputs": [
    {
     "name": "stderr",
     "output_type": "stream",
     "text": [
      "C:\\Users\\Peter\\anaconda3\\lib\\site-packages\\IPython\\core\\interactiveshell.py:3063: DtypeWarning: Columns (11,115,123,187,274,284,287,288,290,291,292,397,585,595,628,632) have mixed types.Specify dtype option on import or set low_memory=False.\n",
      "  interactivity=interactivity, compiler=compiler, result=result)\n"
     ]
    },
    {
     "data": {
      "text/html": [
       "<div>\n",
       "<style scoped>\n",
       "    .dataframe tbody tr th:only-of-type {\n",
       "        vertical-align: middle;\n",
       "    }\n",
       "\n",
       "    .dataframe tbody tr th {\n",
       "        vertical-align: top;\n",
       "    }\n",
       "\n",
       "    .dataframe thead th {\n",
       "        text-align: right;\n",
       "    }\n",
       "</style>\n",
       "<table border=\"1\" class=\"dataframe\">\n",
       "  <thead>\n",
       "    <tr style=\"text-align: right;\">\n",
       "      <th></th>\n",
       "      <th>year</th>\n",
       "      <th>id</th>\n",
       "      <th>mar1</th>\n",
       "      <th>BMITZVAH</th>\n",
       "      <th>accntsci</th>\n",
       "      <th>age</th>\n",
       "      <th>sex</th>\n",
       "      <th>life</th>\n",
       "      <th>ENGDO</th>\n",
       "      <th>SCIENTBR</th>\n",
       "      <th>...</th>\n",
       "      <th>wrksch</th>\n",
       "      <th>wrkslf</th>\n",
       "      <th>wrkstat</th>\n",
       "      <th>wrkwayup</th>\n",
       "      <th>wwwhr</th>\n",
       "      <th>wwwmin</th>\n",
       "      <th>xmarsex</th>\n",
       "      <th>xmovie</th>\n",
       "      <th>xnorcsiz</th>\n",
       "      <th>zodiac</th>\n",
       "    </tr>\n",
       "  </thead>\n",
       "  <tbody>\n",
       "    <tr>\n",
       "      <th>0</th>\n",
       "      <td>2012.0</td>\n",
       "      <td>1.0</td>\n",
       "      <td>MARRIED</td>\n",
       "      <td>NaN</td>\n",
       "      <td>NaN</td>\n",
       "      <td>22.0</td>\n",
       "      <td>MALE</td>\n",
       "      <td>EXCITING</td>\n",
       "      <td>NaN</td>\n",
       "      <td>NaN</td>\n",
       "      <td>...</td>\n",
       "      <td>WORK PART-TIME</td>\n",
       "      <td>SOMEONE ELSE</td>\n",
       "      <td>WORKING PARTTIME</td>\n",
       "      <td>AGREE SOMEWHAT</td>\n",
       "      <td>5.0</td>\n",
       "      <td>NaN</td>\n",
       "      <td>ALWAYS WRONG</td>\n",
       "      <td>NaN</td>\n",
       "      <td>UNINC,MED CITY</td>\n",
       "      <td>LIBRA</td>\n",
       "    </tr>\n",
       "    <tr>\n",
       "      <th>1</th>\n",
       "      <td>2012.0</td>\n",
       "      <td>6.0</td>\n",
       "      <td>DIVORCED</td>\n",
       "      <td>NaN</td>\n",
       "      <td>NaN</td>\n",
       "      <td>50.0</td>\n",
       "      <td>FEMALE</td>\n",
       "      <td>NaN</td>\n",
       "      <td>NaN</td>\n",
       "      <td>NaN</td>\n",
       "      <td>...</td>\n",
       "      <td>WORK FULL-TIME</td>\n",
       "      <td>SOMEONE ELSE</td>\n",
       "      <td>OTHER</td>\n",
       "      <td>AGREE SOMEWHAT</td>\n",
       "      <td>0.0</td>\n",
       "      <td>0.0</td>\n",
       "      <td>SOMETIMES WRONG</td>\n",
       "      <td>NaN</td>\n",
       "      <td>CITY,50-250000</td>\n",
       "      <td>TAURUS</td>\n",
       "    </tr>\n",
       "    <tr>\n",
       "      <th>2</th>\n",
       "      <td>2012.0</td>\n",
       "      <td>7.0</td>\n",
       "      <td>MARRIED</td>\n",
       "      <td>NaN</td>\n",
       "      <td>NaN</td>\n",
       "      <td>35.0</td>\n",
       "      <td>FEMALE</td>\n",
       "      <td>NaN</td>\n",
       "      <td>NaN</td>\n",
       "      <td>NaN</td>\n",
       "      <td>...</td>\n",
       "      <td>NaN</td>\n",
       "      <td>SOMEONE ELSE</td>\n",
       "      <td>KEEPING HOUSE</td>\n",
       "      <td>AGREE SOMEWHAT</td>\n",
       "      <td>2.0</td>\n",
       "      <td>NaN</td>\n",
       "      <td>NaN</td>\n",
       "      <td>NO</td>\n",
       "      <td>CITY,50-250000</td>\n",
       "      <td>SCORPIO</td>\n",
       "    </tr>\n",
       "    <tr>\n",
       "      <th>3</th>\n",
       "      <td>2012.0</td>\n",
       "      <td>9.0</td>\n",
       "      <td>SEPARATED</td>\n",
       "      <td>NaN</td>\n",
       "      <td>NaN</td>\n",
       "      <td>28.0</td>\n",
       "      <td>FEMALE</td>\n",
       "      <td>ROUTINE</td>\n",
       "      <td>NaN</td>\n",
       "      <td>NaN</td>\n",
       "      <td>...</td>\n",
       "      <td>WORK PART-TIME</td>\n",
       "      <td>NaN</td>\n",
       "      <td>KEEPING HOUSE</td>\n",
       "      <td>AGREE STRONGLY</td>\n",
       "      <td>NaN</td>\n",
       "      <td>NaN</td>\n",
       "      <td>ALWAYS WRONG</td>\n",
       "      <td>NaN</td>\n",
       "      <td>CITY,50-250000</td>\n",
       "      <td>LIBRA</td>\n",
       "    </tr>\n",
       "    <tr>\n",
       "      <th>4</th>\n",
       "      <td>2012.0</td>\n",
       "      <td>11.0</td>\n",
       "      <td>DIVORCED</td>\n",
       "      <td>NaN</td>\n",
       "      <td>NaN</td>\n",
       "      <td>55.0</td>\n",
       "      <td>MALE</td>\n",
       "      <td>ROUTINE</td>\n",
       "      <td>NaN</td>\n",
       "      <td>NaN</td>\n",
       "      <td>...</td>\n",
       "      <td>NaN</td>\n",
       "      <td>SOMEONE ELSE</td>\n",
       "      <td>OTHER</td>\n",
       "      <td>NaN</td>\n",
       "      <td>14.0</td>\n",
       "      <td>NaN</td>\n",
       "      <td>SOMETIMES WRONG</td>\n",
       "      <td>NaN</td>\n",
       "      <td>SUBURB, MED CITY</td>\n",
       "      <td>PISCES</td>\n",
       "    </tr>\n",
       "  </tbody>\n",
       "</table>\n",
       "<p>5 rows × 706 columns</p>\n",
       "</div>"
      ],
      "text/plain": [
       "     year    id       mar1 BMITZVAH accntsci   age     sex      life ENGDO  \\\n",
       "0  2012.0   1.0    MARRIED      NaN      NaN  22.0    MALE  EXCITING   NaN   \n",
       "1  2012.0   6.0   DIVORCED      NaN      NaN  50.0  FEMALE       NaN   NaN   \n",
       "2  2012.0   7.0    MARRIED      NaN      NaN  35.0  FEMALE       NaN   NaN   \n",
       "3  2012.0   9.0  SEPARATED      NaN      NaN  28.0  FEMALE   ROUTINE   NaN   \n",
       "4  2012.0  11.0   DIVORCED      NaN      NaN  55.0    MALE   ROUTINE   NaN   \n",
       "\n",
       "  SCIENTBR  ...          wrksch        wrkslf           wrkstat  \\\n",
       "0      NaN  ...  WORK PART-TIME  SOMEONE ELSE  WORKING PARTTIME   \n",
       "1      NaN  ...  WORK FULL-TIME  SOMEONE ELSE             OTHER   \n",
       "2      NaN  ...             NaN  SOMEONE ELSE     KEEPING HOUSE   \n",
       "3      NaN  ...  WORK PART-TIME           NaN     KEEPING HOUSE   \n",
       "4      NaN  ...             NaN  SOMEONE ELSE             OTHER   \n",
       "\n",
       "         wrkwayup wwwhr wwwmin          xmarsex  xmovie          xnorcsiz  \\\n",
       "0  AGREE SOMEWHAT   5.0    NaN     ALWAYS WRONG     NaN    UNINC,MED CITY   \n",
       "1  AGREE SOMEWHAT   0.0    0.0  SOMETIMES WRONG     NaN    CITY,50-250000   \n",
       "2  AGREE SOMEWHAT   2.0    NaN              NaN      NO    CITY,50-250000   \n",
       "3  AGREE STRONGLY   NaN    NaN     ALWAYS WRONG     NaN    CITY,50-250000   \n",
       "4             NaN  14.0    NaN  SOMETIMES WRONG     NaN  SUBURB, MED CITY   \n",
       "\n",
       "    zodiac  \n",
       "0    LIBRA  \n",
       "1   TAURUS  \n",
       "2  SCORPIO  \n",
       "3    LIBRA  \n",
       "4   PISCES  \n",
       "\n",
       "[5 rows x 706 columns]"
      ]
     },
     "execution_count": 2,
     "metadata": {},
     "output_type": "execute_result"
    }
   ],
   "source": [
    "myDf = pd.read_csv('../../Data/csv/GSS2012a.csv')\n",
    "myDf.head()"
   ]
  },
  {
   "cell_type": "markdown",
   "metadata": {},
   "source": [
    "I'll be using the 'mar1' and 'sex' fields for the example, so select those:"
   ]
  },
  {
   "cell_type": "code",
   "execution_count": 3,
   "metadata": {},
   "outputs": [],
   "source": [
    "myField1 = myDf['mar1']\n",
    "myField2 = myDf['sex']"
   ]
  },
  {
   "cell_type": "markdown",
   "metadata": {},
   "source": [
    "To get a quick look at the counts from these we can use Pandas '<a href=\"https://pandas.pydata.org/pandas-docs/stable/reference/api/pandas.crosstab.html\">crosstab</a>': "
   ]
  },
  {
   "cell_type": "code",
   "execution_count": 4,
   "metadata": {},
   "outputs": [
    {
     "data": {
      "text/html": [
       "<div>\n",
       "<style scoped>\n",
       "    .dataframe tbody tr th:only-of-type {\n",
       "        vertical-align: middle;\n",
       "    }\n",
       "\n",
       "    .dataframe tbody tr th {\n",
       "        vertical-align: top;\n",
       "    }\n",
       "\n",
       "    .dataframe thead th {\n",
       "        text-align: right;\n",
       "    }\n",
       "</style>\n",
       "<table border=\"1\" class=\"dataframe\">\n",
       "  <thead>\n",
       "    <tr style=\"text-align: right;\">\n",
       "      <th>sex</th>\n",
       "      <th>FEMALE</th>\n",
       "      <th>MALE</th>\n",
       "    </tr>\n",
       "    <tr>\n",
       "      <th>mar1</th>\n",
       "      <th></th>\n",
       "      <th></th>\n",
       "    </tr>\n",
       "  </thead>\n",
       "  <tbody>\n",
       "    <tr>\n",
       "      <th>DIVORCED</th>\n",
       "      <td>172</td>\n",
       "      <td>142</td>\n",
       "    </tr>\n",
       "    <tr>\n",
       "      <th>MARRIED</th>\n",
       "      <td>516</td>\n",
       "      <td>456</td>\n",
       "    </tr>\n",
       "    <tr>\n",
       "      <th>NEVER MARRIED</th>\n",
       "      <td>207</td>\n",
       "      <td>188</td>\n",
       "    </tr>\n",
       "    <tr>\n",
       "      <th>SEPARATED</th>\n",
       "      <td>50</td>\n",
       "      <td>29</td>\n",
       "    </tr>\n",
       "    <tr>\n",
       "      <th>WIDOWED</th>\n",
       "      <td>123</td>\n",
       "      <td>58</td>\n",
       "    </tr>\n",
       "  </tbody>\n",
       "</table>\n",
       "</div>"
      ],
      "text/plain": [
       "sex            FEMALE  MALE\n",
       "mar1                       \n",
       "DIVORCED          172   142\n",
       "MARRIED           516   456\n",
       "NEVER MARRIED     207   188\n",
       "SEPARATED          50    29\n",
       "WIDOWED           123    58"
      ]
     },
     "execution_count": 4,
     "metadata": {},
     "output_type": "execute_result"
    }
   ],
   "source": [
    "myCrosstable = pd.crosstab(myField1, myField2)\n",
    "myCrosstable"
   ]
  },
  {
   "cell_type": "markdown",
   "metadata": {},
   "source": [
    "To perform the test, I'll make use of the '<a href=\"https://docs.scipy.org/doc/scipy/reference/generated/scipy.stats.chi2_contingency.html#scipy.stats.chi2_contingency\">chi2_contingency</a>' function in the '<a href=\"https://docs.scipy.org/doc/scipy/reference/stats.html\">stats</a>' module, of the <a href=\"https://www.scipy.org/\">scipy</a> library. So lets load that in:"
   ]
  },
  {
   "cell_type": "code",
   "execution_count": 5,
   "metadata": {},
   "outputs": [],
   "source": [
    "# !pip install scipy\n",
    "from scipy.stats import chi2_contingency"
   ]
  },
  {
   "cell_type": "markdown",
   "metadata": {},
   "source": [
    "Now all we need to do is feed this function our cross table:"
   ]
  },
  {
   "cell_type": "code",
   "execution_count": 6,
   "metadata": {},
   "outputs": [
    {
     "data": {
      "text/plain": [
       "(16.989749099448613,\n",
       " 0.0019418339492422961,\n",
       " 4,\n",
       " array([[172.77279753, 141.22720247],\n",
       "        [534.82534776, 437.17465224],\n",
       "        [217.34157651, 177.65842349],\n",
       "        [ 43.4683153 ,  35.5316847 ],\n",
       "        [ 99.59196291,  81.40803709]]))"
      ]
     },
     "execution_count": 6,
     "metadata": {},
     "output_type": "execute_result"
    }
   ],
   "source": [
    "chiVal, pVal, df, exp = chi2_contingency(myCrosstable)\n",
    "chiVal, pVal, df, exp"
   ]
  },
  {
   "cell_type": "markdown",
   "metadata": {},
   "source": [
    "The first value is the chi-square value of 16.99. The chance of such a value or even more extreme, in a sample, if there is no association in the population is 0.0019 (the second value). This is known as the p-value or significance. It is considered 'significant' usually if this value is below 0.05, which in this case it is. This indicates then an association between the two variables (one has an impact on the other).\n",
    "\n",
    "The third value is the degrees of freedom, which is an indication of the size of the table, since it is simply the number of rows - 1, times the number of columns - 1.\n",
    "\n",
    "The last array are the so called expected values. These are the counts to be expected if the two variables had no influence on each other.\n",
    "\n",
    "Note that as a criteria the lowest expected value should be at least 1, and not too many should be below 5. Often a threshold of 20% is used (so if more than 20% of the cells have an expected count of 5 or less, the test is not reliable to use).\n",
    "\n",
    "So lets check this. First the lowest expected count:"
   ]
  },
  {
   "cell_type": "code",
   "execution_count": 7,
   "metadata": {},
   "outputs": [
    {
     "data": {
      "text/plain": [
       "35.53168469860896"
      ]
     },
     "execution_count": 7,
     "metadata": {},
     "output_type": "execute_result"
    }
   ],
   "source": [
    "exp.min()"
   ]
  },
  {
   "cell_type": "markdown",
   "metadata": {},
   "source": [
    "So 35 is well above the criteria of at least 1, so thats good.\n",
    "\n",
    "Now for the percentage of cells with a count less than 5:"
   ]
  },
  {
   "cell_type": "code",
   "execution_count": 8,
   "metadata": {},
   "outputs": [
    {
     "data": {
      "text/plain": [
       "0.0"
      ]
     },
     "execution_count": 8,
     "metadata": {},
     "output_type": "execute_result"
    }
   ],
   "source": [
    "len(exp[exp < 5]) / len(exp) * 100"
   ]
  },
  {
   "cell_type": "markdown",
   "metadata": {},
   "source": [
    "Well, since none of them was below 5 the percentage is of course 0%."
   ]
  },
  {
   "cell_type": "markdown",
   "metadata": {},
   "source": [
    "Instead of the scipy package, a slightly lesser known package of 'researchpy' also has a chi-square test that could be easier to use."
   ]
  },
  {
   "cell_type": "code",
   "execution_count": 9,
   "metadata": {},
   "outputs": [],
   "source": [
    "# !pip install researchpy\n",
    "import researchpy   # https://researchpy.readthedocs.io/"
   ]
  },
  {
   "cell_type": "markdown",
   "metadata": {},
   "source": [
    "With this package we can use crosstab directly on the dataframe, set the test to 'chi-square', and since we're also interested in the expected frequencies, set 'expected_freqs' to True:"
   ]
  },
  {
   "cell_type": "code",
   "execution_count": 10,
   "metadata": {},
   "outputs": [],
   "source": [
    "crosstab, res, exp = researchpy.crosstab(myDf['sex'], myDf['mar1'], test='chi-square', expected_freqs=True)"
   ]
  },
  {
   "cell_type": "markdown",
   "metadata": {},
   "source": [
    "The results of the test:"
   ]
  },
  {
   "cell_type": "code",
   "execution_count": 11,
   "metadata": {},
   "outputs": [
    {
     "data": {
      "text/html": [
       "<div>\n",
       "<style scoped>\n",
       "    .dataframe tbody tr th:only-of-type {\n",
       "        vertical-align: middle;\n",
       "    }\n",
       "\n",
       "    .dataframe tbody tr th {\n",
       "        vertical-align: top;\n",
       "    }\n",
       "\n",
       "    .dataframe thead th {\n",
       "        text-align: right;\n",
       "    }\n",
       "</style>\n",
       "<table border=\"1\" class=\"dataframe\">\n",
       "  <thead>\n",
       "    <tr style=\"text-align: right;\">\n",
       "      <th></th>\n",
       "      <th>Chi-square test</th>\n",
       "      <th>results</th>\n",
       "    </tr>\n",
       "  </thead>\n",
       "  <tbody>\n",
       "    <tr>\n",
       "      <th>0</th>\n",
       "      <td>Pearson Chi-square ( 4.0) =</td>\n",
       "      <td>16.9897</td>\n",
       "    </tr>\n",
       "    <tr>\n",
       "      <th>1</th>\n",
       "      <td>p-value =</td>\n",
       "      <td>0.0019</td>\n",
       "    </tr>\n",
       "    <tr>\n",
       "      <th>2</th>\n",
       "      <td>Cramer's V =</td>\n",
       "      <td>0.0936</td>\n",
       "    </tr>\n",
       "  </tbody>\n",
       "</table>\n",
       "</div>"
      ],
      "text/plain": [
       "                Chi-square test  results\n",
       "0  Pearson Chi-square ( 4.0) =   16.9897\n",
       "1                    p-value =    0.0019\n",
       "2                 Cramer's V =    0.0936"
      ]
     },
     "execution_count": 11,
     "metadata": {},
     "output_type": "execute_result"
    }
   ],
   "source": [
    "res"
   ]
  },
  {
   "cell_type": "markdown",
   "metadata": {},
   "source": [
    "And the expected values:"
   ]
  },
  {
   "cell_type": "code",
   "execution_count": 12,
   "metadata": {},
   "outputs": [
    {
     "data": {
      "text/html": [
       "<div>\n",
       "<style scoped>\n",
       "    .dataframe tbody tr th:only-of-type {\n",
       "        vertical-align: middle;\n",
       "    }\n",
       "\n",
       "    .dataframe tbody tr th {\n",
       "        vertical-align: top;\n",
       "    }\n",
       "\n",
       "    .dataframe thead tr th {\n",
       "        text-align: left;\n",
       "    }\n",
       "\n",
       "    .dataframe thead tr:last-of-type th {\n",
       "        text-align: right;\n",
       "    }\n",
       "</style>\n",
       "<table border=\"1\" class=\"dataframe\">\n",
       "  <thead>\n",
       "    <tr>\n",
       "      <th></th>\n",
       "      <th colspan=\"5\" halign=\"left\">mar1</th>\n",
       "    </tr>\n",
       "    <tr>\n",
       "      <th>mar1</th>\n",
       "      <th>DIVORCED</th>\n",
       "      <th>MARRIED</th>\n",
       "      <th>NEVER MARRIED</th>\n",
       "      <th>SEPARATED</th>\n",
       "      <th>WIDOWED</th>\n",
       "    </tr>\n",
       "    <tr>\n",
       "      <th>sex</th>\n",
       "      <th></th>\n",
       "      <th></th>\n",
       "      <th></th>\n",
       "      <th></th>\n",
       "      <th></th>\n",
       "    </tr>\n",
       "  </thead>\n",
       "  <tbody>\n",
       "    <tr>\n",
       "      <th>FEMALE</th>\n",
       "      <td>172.772798</td>\n",
       "      <td>534.825348</td>\n",
       "      <td>217.341577</td>\n",
       "      <td>43.468315</td>\n",
       "      <td>99.591963</td>\n",
       "    </tr>\n",
       "    <tr>\n",
       "      <th>MALE</th>\n",
       "      <td>141.227202</td>\n",
       "      <td>437.174652</td>\n",
       "      <td>177.658423</td>\n",
       "      <td>35.531685</td>\n",
       "      <td>81.408037</td>\n",
       "    </tr>\n",
       "  </tbody>\n",
       "</table>\n",
       "</div>"
      ],
      "text/plain": [
       "              mar1                                                \n",
       "mar1      DIVORCED     MARRIED NEVER MARRIED  SEPARATED    WIDOWED\n",
       "sex                                                               \n",
       "FEMALE  172.772798  534.825348    217.341577  43.468315  99.591963\n",
       "MALE    141.227202  437.174652    177.658423  35.531685  81.408037"
      ]
     },
     "execution_count": 12,
     "metadata": {},
     "output_type": "execute_result"
    }
   ],
   "source": [
    "exp"
   ]
  },
  {
   "cell_type": "markdown",
   "metadata": {},
   "source": [
    "Same results again as before.\n",
    "\n",
    "In the appendix I'll go over the formulas that are actually used in these packages."
   ]
  },
  {
   "cell_type": "markdown",
   "metadata": {},
   "source": [
    "## Appendix: The Hard Way"
   ]
  },
  {
   "cell_type": "code",
   "execution_count": 13,
   "metadata": {},
   "outputs": [
    {
     "data": {
      "text/html": [
       "<div>\n",
       "<style scoped>\n",
       "    .dataframe tbody tr th:only-of-type {\n",
       "        vertical-align: middle;\n",
       "    }\n",
       "\n",
       "    .dataframe tbody tr th {\n",
       "        vertical-align: top;\n",
       "    }\n",
       "\n",
       "    .dataframe thead th {\n",
       "        text-align: right;\n",
       "    }\n",
       "</style>\n",
       "<table border=\"1\" class=\"dataframe\">\n",
       "  <thead>\n",
       "    <tr style=\"text-align: right;\">\n",
       "      <th>sex</th>\n",
       "      <th>FEMALE</th>\n",
       "      <th>MALE</th>\n",
       "    </tr>\n",
       "    <tr>\n",
       "      <th>mar1</th>\n",
       "      <th></th>\n",
       "      <th></th>\n",
       "    </tr>\n",
       "  </thead>\n",
       "  <tbody>\n",
       "    <tr>\n",
       "      <th>DIVORCED</th>\n",
       "      <td>172</td>\n",
       "      <td>142</td>\n",
       "    </tr>\n",
       "    <tr>\n",
       "      <th>MARRIED</th>\n",
       "      <td>516</td>\n",
       "      <td>456</td>\n",
       "    </tr>\n",
       "    <tr>\n",
       "      <th>NEVER MARRIED</th>\n",
       "      <td>207</td>\n",
       "      <td>188</td>\n",
       "    </tr>\n",
       "    <tr>\n",
       "      <th>SEPARATED</th>\n",
       "      <td>50</td>\n",
       "      <td>29</td>\n",
       "    </tr>\n",
       "    <tr>\n",
       "      <th>WIDOWED</th>\n",
       "      <td>123</td>\n",
       "      <td>58</td>\n",
       "    </tr>\n",
       "  </tbody>\n",
       "</table>\n",
       "</div>"
      ],
      "text/plain": [
       "sex            FEMALE  MALE\n",
       "mar1                       \n",
       "DIVORCED          172   142\n",
       "MARRIED           516   456\n",
       "NEVER MARRIED     207   188\n",
       "SEPARATED          50    29\n",
       "WIDOWED           123    58"
      ]
     },
     "execution_count": 13,
     "metadata": {},
     "output_type": "execute_result"
    }
   ],
   "source": [
    "myCrosstable"
   ]
  },
  {
   "cell_type": "markdown",
   "metadata": {},
   "source": [
    "We begin with calculating the expected values. These can be calculated using:\n",
    "\n",
    "\\begin{equation*}\n",
    "E_{i,j} = \\frac{R_i \\times C_j}{N}\n",
    "\\end{equation*}\n",
    "\n",
    "The $E_{i,j}$ indicates the expected count in row i, column j. The $R_i$ is the row total of row i, and $C_j$ the column total of column j. The $N$ is the grand total.\n",
    "\n",
    "So we need the column and row totals. This can be easily done with Pandas '<a href=\"https://pandas.pydata.org/pandas-docs/stable/reference/api/pandas.DataFrame.sum.html\">sum</a>' function. For the rows we need to use 'axis=1' so it will sum by row (rather than by column):"
   ]
  },
  {
   "cell_type": "code",
   "execution_count": 14,
   "metadata": {},
   "outputs": [
    {
     "data": {
      "text/plain": [
       "(sex\n",
       " FEMALE    1068\n",
       " MALE       873\n",
       " dtype: int64,\n",
       " mar1\n",
       " DIVORCED         314\n",
       " MARRIED          972\n",
       " NEVER MARRIED    395\n",
       " SEPARATED         79\n",
       " WIDOWED          181\n",
       " dtype: int64)"
      ]
     },
     "execution_count": 14,
     "metadata": {},
     "output_type": "execute_result"
    }
   ],
   "source": [
    "colTotals = myCrosstable.sum()\n",
    "rowTotals = myCrosstable.sum(axis=1)\n",
    "\n",
    "colTotals, rowTotals"
   ]
  },
  {
   "cell_type": "markdown",
   "metadata": {},
   "source": [
    "Its useful to have the number of rows and columns also easily accessible, which can be obtained by using Python's '<a href=\"https://docs.python.org/3/library/functions.html#len\">len</a>' function:"
   ]
  },
  {
   "cell_type": "code",
   "execution_count": 15,
   "metadata": {},
   "outputs": [
    {
     "data": {
      "text/plain": [
       "(2, 5)"
      ]
     },
     "execution_count": 15,
     "metadata": {},
     "output_type": "execute_result"
    }
   ],
   "source": [
    "nCols = len(colTotals)\n",
    "nRows = len(rowTotals)\n",
    "\n",
    "nCols, nRows"
   ]
  },
  {
   "cell_type": "markdown",
   "metadata": {},
   "source": [
    "And the grand total is simply the sum of the row totals (or the column totals):"
   ]
  },
  {
   "cell_type": "code",
   "execution_count": 16,
   "metadata": {},
   "outputs": [
    {
     "data": {
      "text/plain": [
       "1941"
      ]
     },
     "execution_count": 16,
     "metadata": {},
     "output_type": "execute_result"
    }
   ],
   "source": [
    "N = rowTotals.sum()\n",
    "N"
   ]
  },
  {
   "cell_type": "markdown",
   "metadata": {},
   "source": [
    "Next we can determine the expected values using the formula. We do this for each cell so iterate over all rows and columns:"
   ]
  },
  {
   "cell_type": "code",
   "execution_count": 17,
   "metadata": {},
   "outputs": [
    {
     "name": "stdout",
     "output_type": "stream",
     "text": [
      "172.7727975270479\n",
      "141.2272024729521\n",
      "534.8253477588871\n",
      "437.1746522411128\n",
      "217.34157650695516\n",
      "177.65842349304484\n",
      "43.46831530139104\n",
      "35.53168469860896\n",
      "99.5919629057187\n",
      "81.4080370942813\n"
     ]
    }
   ],
   "source": [
    "for i in range(nRows):\n",
    "    for j in range(nCols):\n",
    "        E = rowTotals[i] * colTotals[j] / N\n",
    "        print(E)"
   ]
  },
  {
   "cell_type": "markdown",
   "metadata": {},
   "source": [
    "The chi-square value can now be calculated using:\n",
    "\n",
    "\\begin{equation*}\n",
    "\\chi^2 = \\sum\\frac{(O_{i,j}-E_{i,j})^2}{E_{i,j}}\n",
    "\\end{equation*}\n",
    "\n",
    "The $O_{i,j}$ are the observed counts from the original cross table (i-th row, j-th column), we subtract the expected count, and square the result. We then add all of these up, and divide by the expected count.\n",
    "\n",
    "So here goes with Python:"
   ]
  },
  {
   "cell_type": "code",
   "execution_count": 18,
   "metadata": {},
   "outputs": [
    {
     "data": {
      "text/plain": [
       "16.989749099448613"
      ]
     },
     "execution_count": 18,
     "metadata": {},
     "output_type": "execute_result"
    }
   ],
   "source": [
    "chiVal = 0\n",
    "for i in range(nRows):\n",
    "    for j in range(nCols):\n",
    "        E = rowTotals[i] * colTotals[j] / N\n",
    "        O = myCrosstable.iloc[i,j]\n",
    "        chiVal = chiVal + (O - E)**2 / E\n",
    "chiVal"
   ]
  },
  {
   "cell_type": "markdown",
   "metadata": {},
   "source": [
    "Great, the same result as with the scipy package.\n",
    "\n",
    "We also will need the degrees of freedom (df), but that is relatively easy:\n",
    "\n",
    "\\begin{equation*}\n",
    "df = (r - 1)(c-1)\n",
    "\\end{equation*}\n",
    "\n",
    "Where $r$ is the number of rows, and $c$ the number of columns."
   ]
  },
  {
   "cell_type": "code",
   "execution_count": 19,
   "metadata": {},
   "outputs": [
    {
     "data": {
      "text/plain": [
       "4"
      ]
     },
     "execution_count": 19,
     "metadata": {},
     "output_type": "execute_result"
    }
   ],
   "source": [
    "df = (nRows - 1) * (nCols - 1)\n",
    "df"
   ]
  },
  {
   "cell_type": "markdown",
   "metadata": {},
   "source": [
    "To obtain the area under a chi-square distribution with df of 4, from 0 to our found chi-square value, we will use the chi2.cdf function from scipy.stats."
   ]
  },
  {
   "cell_type": "code",
   "execution_count": 20,
   "metadata": {},
   "outputs": [],
   "source": [
    "# !pip install scipy\n",
    "from scipy.stats import chi2"
   ]
  },
  {
   "cell_type": "markdown",
   "metadata": {},
   "source": [
    "Now to get the area under the curve:"
   ]
  },
  {
   "cell_type": "code",
   "execution_count": 21,
   "metadata": {},
   "outputs": [
    {
     "data": {
      "text/plain": [
       "0.9980581660507577"
      ]
     },
     "execution_count": 21,
     "metadata": {},
     "output_type": "execute_result"
    }
   ],
   "source": [
    "chi2.cdf(chiVal, df)"
   ]
  },
  {
   "cell_type": "markdown",
   "metadata": {},
   "source": [
    "However we actually need for the p-value a value equal or greater than the chi-square value. So we subtract the above result from 1:"
   ]
  },
  {
   "cell_type": "code",
   "execution_count": 22,
   "metadata": {},
   "outputs": [
    {
     "data": {
      "text/plain": [
       "0.0019418339492422998"
      ]
     },
     "execution_count": 22,
     "metadata": {},
     "output_type": "execute_result"
    }
   ],
   "source": [
    "1 - chi2.cdf(chiVal, df)"
   ]
  },
  {
   "cell_type": "markdown",
   "metadata": {},
   "source": [
    "And that's indeed the same as we saw before."
   ]
  },
  {
   "cell_type": "code",
   "execution_count": 23,
   "metadata": {},
   "outputs": [
    {
     "data": {
      "text/plain": [
       "0.0019418339492422961"
      ]
     },
     "execution_count": 23,
     "metadata": {},
     "output_type": "execute_result"
    }
   ],
   "source": [
    "chi2.sf(chiVal, df)"
   ]
  }
 ],
 "metadata": {
  "kernelspec": {
   "display_name": "Python 3 (ipykernel)",
   "language": "python",
   "name": "python3"
  },
  "language_info": {
   "codemirror_mode": {
    "name": "ipython",
    "version": 3
   },
   "file_extension": ".py",
   "mimetype": "text/x-python",
   "name": "python",
   "nbconvert_exporter": "python",
   "pygments_lexer": "ipython3",
   "version": "3.9.7"
  }
 },
 "nbformat": 4,
 "nbformat_minor": 4
}
