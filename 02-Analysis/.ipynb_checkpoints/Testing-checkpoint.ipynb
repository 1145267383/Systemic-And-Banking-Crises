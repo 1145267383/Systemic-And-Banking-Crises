{
 "cells": [
  {
   "cell_type": "markdown",
   "id": "79080d51",
   "metadata": {
    "slideshow": {
     "slide_type": "slide"
    }
   },
   "source": [
    "# Project: Systemic And Banking Crisis.\n",
    "\n",
    "> ### **Title**: Test the correlation of some variables with some.\n",
    "\n",
    "## Table of Contents:\n",
    "<ul>\n",
    "<li><a href=\"#intro\">Introduction</a></li>\n",
    "<li><a href=\"#con\">Conclusions</a></li>\n",
    "</ul>"
   ]
  },
  {
   "cell_type": "markdown",
   "id": "68455881",
   "metadata": {
    "slideshow": {
     "slide_type": "slide"
    }
   },
   "source": [
    "<a id='intro'></a>\n",
    "## Introduction\n",
    "\n",
    "- **-Banking_Crisis**: Banking problems can often be traced to a decrease the value of banks' assets:\n",
    ">- A) due to a collapse in real estate prices or When the bank asset  values decrease substantially.\n",
    ">- B) if a government stops paying its obligations, this can trigger a sharp decline in value of bonds.\n",
    "- **-Systemic_Crisis**: When many banks in a country are in serious solvency or liquidity problems at the same time—either:\n",
    ">- A) because there are all hits by the same outside shock.\n",
    ">- B) or because failure in one bank or a group of banks spreads to other banks in the system.\n",
    "- **-Gold_Standard**: The Country have crisis in Gold Standard.\n",
    "- **-Level_Country**: The description of the country  whether it's Developing or Developed. "
   ]
  },
  {
   "cell_type": "markdown",
   "id": "cf7d920e",
   "metadata": {
    "slideshow": {
     "slide_type": "subslide"
    }
   },
   "source": [
    "\n",
    "## **Research Questiones**:-\n",
    "<li><a href=\"#1\">Research Question 1 : Is there a relationship between Gold Standard and Systemic Crises , and what is the strength of this relationship?</a></li>\n",
    "\n",
    "<li><a href=\"#2\">Research Question 2 : Is there a relationship between Gold Standard and Banking Crises , and what is the strength of this relationship?</a></li>\n",
    "\n",
    "<li><a href=\"#3\">Research Question 3 : Is there a relationship between Level Country and Systemic Crises , and what is the strength of this relationship?</a></li>\n",
    "\n",
    "<li><a href=\"#3\">Research Question 3 : Is there a relationship between Level Country and Banking Crises , and what is the strength of this relationship?</a></li>\n"
   ]
  },
  {
   "cell_type": "code",
   "execution_count": 1,
   "id": "b9717adc",
   "metadata": {
    "slideshow": {
     "slide_type": "skip"
    }
   },
   "outputs": [],
   "source": [
    "# Chi-squere test of Independent.\n",
    "def Chi_Sq_indep(x1,x2):\n",
    "    \"\"\"\n",
    "    # Chi-squere test of Independent.\n",
    "    H0: x1,x2 >>>Independent\n",
    "    H1: x1,x2 >>>Dependent\n",
    "    a=0.05\n",
    "    P_value>a : H0 True.\n",
    "    P_value<a : H1 True.\n",
    "    \n",
    "    \"\"\"\n",
    "    #\n",
    "    crosstab= pd.crosstab(df_data[x1],df_data[x2],margins=True)\n",
    "    print(crosstab/crosstab[\"All\"][\"All\"])\n",
    "    #\n",
    "    chiVal, pVal, DF ,exp = stats.chi2_contingency(crosstab.iloc[:-1,:-1])\n",
    "    rel=((chiVal)/((chiVal)+DF))**0.5\n",
    "    #\n",
    "    x=np.arange(0,20,0.1)\n",
    "    plt.plot(x,stats.chi2.pdf(x,DF),label=\"df={}\".format(DF))\n",
    "    plt.axvline(x=stats.chi2.isf(0.05,1),ymax=0.05,c='red')\n",
    "    plt.legend( loc=\"upper right\")\n",
    "    plt.fill_between(x=np.arange(chiVal+0.1,20,0.1), \n",
    "                     y1= stats.chi2.pdf(np.arange(chiVal+0.1,20,0.1),1),\n",
    "                     facecolor='red',\n",
    "                     alpha=0.35)\n",
    "    plt.ylim(0,0.8)\n",
    "    plt.show()\n",
    "    #\n",
    "    print(f\"H0: {x1},{x2} >>>Independent \\nH1: {x1},{x2} >>>Dependent\")\n",
    "    print(\"\\n\")\n",
    "    print(f\"Chi_SqV={chiVal}, \\nP_Value={pVal}, \\nDF={DF}\")\n",
    "    print(\"\\n\")\n",
    "    #\n",
    "    if pVal>=0.05:\n",
    "        print(f\"Not reject Null Hypothesis \\n(H0): {x1},{x2} >>>Independent\")\n",
    "    else:\n",
    "        print(f\"reject Null Hypothesis (H0),And favor Alternative \\n(H1): {x1},{x2} >>>Dependent\")\n",
    "    \n",
    "    print(\"\\n\")\n",
    "    print(f\"Relationship={rel*100}%\")\n",
    "    \n",
    "        "
   ]
  },
  {
   "cell_type": "code",
   "execution_count": 2,
   "id": "de985303",
   "metadata": {
    "scrolled": true,
    "slideshow": {
     "slide_type": "skip"
    }
   },
   "outputs": [],
   "source": [
    "import numpy as np\n",
    "import pandas as pd \n",
    "import seaborn as sns \n",
    "import matplotlib.pyplot as plt \n",
    "%matplotlib inline\n",
    "sns.set(rc={'figure.figsize': [7,3]}, font_scale=1.2)\n",
    "\n",
    "\n",
    "\n",
    "import statistics as stc\n",
    "import statsmodels.api as sm\n",
    "import statsmodels.formula as smf\n",
    "import statsmodels.graphics as smg\n",
    "from bioinfokit.analys import stat \n",
    "\n",
    "import patsy\n",
    "import researchpy\n",
    "from scipy import stats"
   ]
  },
  {
   "cell_type": "code",
   "execution_count": 3,
   "id": "473b68b9",
   "metadata": {
    "scrolled": false,
    "slideshow": {
     "slide_type": "skip"
    }
   },
   "outputs": [
    {
     "data": {
      "text/html": [
       "<div>\n",
       "<style scoped>\n",
       "    .dataframe tbody tr th:only-of-type {\n",
       "        vertical-align: middle;\n",
       "    }\n",
       "\n",
       "    .dataframe tbody tr th {\n",
       "        vertical-align: top;\n",
       "    }\n",
       "\n",
       "    .dataframe thead th {\n",
       "        text-align: right;\n",
       "    }\n",
       "</style>\n",
       "<table border=\"1\" class=\"dataframe\">\n",
       "  <thead>\n",
       "    <tr style=\"text-align: right;\">\n",
       "      <th></th>\n",
       "      <th>Case</th>\n",
       "      <th>Cc3</th>\n",
       "      <th>Country</th>\n",
       "      <th>Year</th>\n",
       "      <th>Banking_Crisis</th>\n",
       "      <th>Systemic_Crisis</th>\n",
       "      <th>Gold_Standard</th>\n",
       "      <th>Exch_Usd</th>\n",
       "      <th>Domestic_Debt_In_Default</th>\n",
       "      <th>Sovereign_External_Debt_1</th>\n",
       "      <th>Sovereign_External_Debt_2</th>\n",
       "      <th>Gdp_Weighted_Default</th>\n",
       "      <th>Inflation</th>\n",
       "      <th>Independence</th>\n",
       "      <th>Currency_Crises</th>\n",
       "      <th>Inflation_Crises</th>\n",
       "      <th>Level_Country</th>\n",
       "    </tr>\n",
       "  </thead>\n",
       "  <tbody>\n",
       "    <tr>\n",
       "      <th>0</th>\n",
       "      <td>1</td>\n",
       "      <td>DZA</td>\n",
       "      <td>Algeria</td>\n",
       "      <td>1870</td>\n",
       "      <td>1</td>\n",
       "      <td>1</td>\n",
       "      <td>0</td>\n",
       "      <td>0.052264</td>\n",
       "      <td>0</td>\n",
       "      <td>0</td>\n",
       "      <td>0</td>\n",
       "      <td>0.0</td>\n",
       "      <td>3.441456</td>\n",
       "      <td>0</td>\n",
       "      <td>0</td>\n",
       "      <td>0</td>\n",
       "      <td>Developing regions</td>\n",
       "    </tr>\n",
       "    <tr>\n",
       "      <th>1</th>\n",
       "      <td>1</td>\n",
       "      <td>DZA</td>\n",
       "      <td>Algeria</td>\n",
       "      <td>1871</td>\n",
       "      <td>0</td>\n",
       "      <td>0</td>\n",
       "      <td>0</td>\n",
       "      <td>0.052798</td>\n",
       "      <td>0</td>\n",
       "      <td>0</td>\n",
       "      <td>0</td>\n",
       "      <td>0.0</td>\n",
       "      <td>14.149140</td>\n",
       "      <td>0</td>\n",
       "      <td>0</td>\n",
       "      <td>0</td>\n",
       "      <td>Developing regions</td>\n",
       "    </tr>\n",
       "    <tr>\n",
       "      <th>2</th>\n",
       "      <td>1</td>\n",
       "      <td>DZA</td>\n",
       "      <td>Algeria</td>\n",
       "      <td>1872</td>\n",
       "      <td>0</td>\n",
       "      <td>0</td>\n",
       "      <td>0</td>\n",
       "      <td>0.052274</td>\n",
       "      <td>0</td>\n",
       "      <td>0</td>\n",
       "      <td>0</td>\n",
       "      <td>0.0</td>\n",
       "      <td>-3.718593</td>\n",
       "      <td>0</td>\n",
       "      <td>0</td>\n",
       "      <td>0</td>\n",
       "      <td>Developing regions</td>\n",
       "    </tr>\n",
       "    <tr>\n",
       "      <th>3</th>\n",
       "      <td>1</td>\n",
       "      <td>DZA</td>\n",
       "      <td>Algeria</td>\n",
       "      <td>1873</td>\n",
       "      <td>0</td>\n",
       "      <td>0</td>\n",
       "      <td>0</td>\n",
       "      <td>0.051680</td>\n",
       "      <td>0</td>\n",
       "      <td>0</td>\n",
       "      <td>0</td>\n",
       "      <td>0.0</td>\n",
       "      <td>11.203897</td>\n",
       "      <td>0</td>\n",
       "      <td>0</td>\n",
       "      <td>0</td>\n",
       "      <td>Developing regions</td>\n",
       "    </tr>\n",
       "    <tr>\n",
       "      <th>4</th>\n",
       "      <td>1</td>\n",
       "      <td>DZA</td>\n",
       "      <td>Algeria</td>\n",
       "      <td>1874</td>\n",
       "      <td>0</td>\n",
       "      <td>0</td>\n",
       "      <td>0</td>\n",
       "      <td>0.051308</td>\n",
       "      <td>0</td>\n",
       "      <td>0</td>\n",
       "      <td>0</td>\n",
       "      <td>0.0</td>\n",
       "      <td>-3.848561</td>\n",
       "      <td>0</td>\n",
       "      <td>0</td>\n",
       "      <td>0</td>\n",
       "      <td>Developing regions</td>\n",
       "    </tr>\n",
       "  </tbody>\n",
       "</table>\n",
       "</div>"
      ],
      "text/plain": [
       "   Case  Cc3  Country  Year  Banking_Crisis  Systemic_Crisis  Gold_Standard  \\\n",
       "0     1  DZA  Algeria  1870               1                1              0   \n",
       "1     1  DZA  Algeria  1871               0                0              0   \n",
       "2     1  DZA  Algeria  1872               0                0              0   \n",
       "3     1  DZA  Algeria  1873               0                0              0   \n",
       "4     1  DZA  Algeria  1874               0                0              0   \n",
       "\n",
       "   Exch_Usd  Domestic_Debt_In_Default  Sovereign_External_Debt_1  \\\n",
       "0  0.052264                         0                          0   \n",
       "1  0.052798                         0                          0   \n",
       "2  0.052274                         0                          0   \n",
       "3  0.051680                         0                          0   \n",
       "4  0.051308                         0                          0   \n",
       "\n",
       "   Sovereign_External_Debt_2  Gdp_Weighted_Default  Inflation  Independence  \\\n",
       "0                          0                   0.0   3.441456             0   \n",
       "1                          0                   0.0  14.149140             0   \n",
       "2                          0                   0.0  -3.718593             0   \n",
       "3                          0                   0.0  11.203897             0   \n",
       "4                          0                   0.0  -3.848561             0   \n",
       "\n",
       "   Currency_Crises  Inflation_Crises       Level_Country  \n",
       "0                0                 0  Developing regions  \n",
       "1                0                 0  Developing regions  \n",
       "2                0                 0  Developing regions  \n",
       "3                0                 0  Developing regions  \n",
       "4                0                 0  Developing regions  "
      ]
     },
     "execution_count": 3,
     "metadata": {},
     "output_type": "execute_result"
    }
   ],
   "source": [
    "df_data=pd.read_csv(\"../00-Database/Crisis_systemic_Banking.csv\")\n",
    "df_data.head()"
   ]
  },
  {
   "cell_type": "markdown",
   "id": "feb9f27c",
   "metadata": {
    "slideshow": {
     "slide_type": "slide"
    }
   },
   "source": [
    "<a id='1'></a>\n",
    "### Gold Standard ,Systemic Crisis"
   ]
  },
  {
   "cell_type": "code",
   "execution_count": 4,
   "id": "ad412750",
   "metadata": {
    "slideshow": {
     "slide_type": "subslide"
    }
   },
   "outputs": [
    {
     "name": "stdout",
     "output_type": "stream",
     "text": [
      "Gold_Standard           0         1       All\n",
      "Systemic_Crisis                              \n",
      "0                0.818329  0.119533  0.937862\n",
      "1                0.053460  0.008679  0.062138\n",
      "All              0.871789  0.128211  1.000000\n"
     ]
    },
    {
     "data": {
      "image/png": "[encoded data removed]",
      "text/plain": [
       "<Figure size 504x216 with 1 Axes>"
      ]
     },
     "metadata": {},
     "output_type": "display_data"
    },
    {
     "name": "stdout",
     "output_type": "stream",
     "text": [
      "H0: Systemic_Crisis,Gold_Standard >>>Independent \n",
      "H1: Systemic_Crisis,Gold_Standard >>>Dependent\n",
      "\n",
      "\n",
      "Chi_SqV=0.5672158940950885, \n",
      "P_Value=0.4513673717004746, \n",
      "DF=1\n",
      "\n",
      "\n",
      "Not reject Null Hypothesis \n",
      "(H0): Systemic_Crisis,Gold_Standard >>>Independent\n",
      "\n",
      "\n",
      "Relationship=60.160270758337475%\n"
     ]
    }
   ],
   "source": [
    "Chi_Sq_indep(\"Systemic_Crisis\",\"Gold_Standard\")"
   ]
  },
  {
   "cell_type": "markdown",
   "id": "99a92680",
   "metadata": {
    "slideshow": {
     "slide_type": "slide"
    }
   },
   "source": [
    "<a id='2'></a>\n",
    "## Gold Standard, Banking Crisis"
   ]
  },
  {
   "cell_type": "code",
   "execution_count": 5,
   "id": "f9f93f8b",
   "metadata": {
    "slideshow": {
     "slide_type": "subslide"
    }
   },
   "outputs": [
    {
     "name": "stdout",
     "output_type": "stream",
     "text": [
      "Gold_Standard          0         1       All\n",
      "Banking_Crisis                              \n",
      "0               0.792525  0.116293  0.908817\n",
      "1               0.079264  0.011919  0.091183\n",
      "All             0.871789  0.128211  1.000000\n"
     ]
    },
    {
     "data": {
      "image/png": "[encoded data removed]",
      "text/plain": [
       "<Figure size 504x216 with 1 Axes>"
      ]
     },
     "metadata": {},
     "output_type": "display_data"
    },
    {
     "name": "stdout",
     "output_type": "stream",
     "text": [
      "H0: Banking_Crisis,Gold_Standard >>>Independent \n",
      "H1: Banking_Crisis,Gold_Standard >>>Dependent\n",
      "\n",
      "\n",
      "Chi_SqV=0.026984079229680363, \n",
      "P_Value=0.8695199239993506, \n",
      "DF=1\n",
      "\n",
      "\n",
      "Not reject Null Hypothesis \n",
      "(H0): Banking_Crisis,Gold_Standard >>>Independent\n",
      "\n",
      "\n",
      "Relationship=16.209586867566607%\n"
     ]
    }
   ],
   "source": [
    "Chi_Sq_indep(\"Banking_Crisis\",\"Gold_Standard\")"
   ]
  },
  {
   "cell_type": "markdown",
   "id": "3a8de60b",
   "metadata": {
    "slideshow": {
     "slide_type": "slide"
    }
   },
   "source": [
    "<a id='3'></a>\n",
    "### Level Country ,Systemic Crisis"
   ]
  },
  {
   "cell_type": "code",
   "execution_count": 6,
   "id": "a714be88",
   "metadata": {
    "slideshow": {
     "slide_type": "subslide"
    }
   },
   "outputs": [
    {
     "name": "stdout",
     "output_type": "stream",
     "text": [
      "Level_Country    Developed regions  Developing regions       All\n",
      "Systemic_Crisis                                                 \n",
      "0                         0.443647            0.494214  0.937862\n",
      "1                         0.029160            0.032978  0.062138\n",
      "All                       0.472807            0.527193  1.000000\n"
     ]
    },
    {
     "data": {
      "image/png": "[encoded data removed]",
      "text/plain": [
       "<Figure size 504x216 with 1 Axes>"
      ]
     },
     "metadata": {},
     "output_type": "display_data"
    },
    {
     "name": "stdout",
     "output_type": "stream",
     "text": [
      "H0: Systemic_Crisis,Level_Country >>>Independent \n",
      "H1: Systemic_Crisis,Level_Country >>>Dependent\n",
      "\n",
      "\n",
      "Chi_SqV=0.015556898277722131, \n",
      "P_Value=0.9007394473428232, \n",
      "DF=1\n",
      "\n",
      "\n",
      "Not reject Null Hypothesis \n",
      "(H0): Systemic_Crisis,Level_Country >>>Independent\n",
      "\n",
      "\n",
      "Relationship=12.376828573520719%\n"
     ]
    }
   ],
   "source": [
    "Chi_Sq_indep(\"Systemic_Crisis\",\"Level_Country\")"
   ]
  },
  {
   "cell_type": "markdown",
   "id": "d163b69b",
   "metadata": {
    "slideshow": {
     "slide_type": "slide"
    }
   },
   "source": [
    "<a id='4'></a>\n",
    "### Level_Country ,Systemic_Crisis"
   ]
  },
  {
   "cell_type": "code",
   "execution_count": 7,
   "id": "72c46321",
   "metadata": {
    "slideshow": {
     "slide_type": "subslide"
    }
   },
   "outputs": [
    {
     "name": "stdout",
     "output_type": "stream",
     "text": [
      "Level_Country   Developed regions  Developing regions       All\n",
      "Banking_Crisis                                                 \n",
      "0                        0.423745            0.485073  0.908817\n",
      "1                        0.049063            0.042120  0.091183\n",
      "All                      0.472807            0.527193  1.000000\n"
     ]
    },
    {
     "data": {
      "image/png": "[encoded data removed]",
      "text/plain": [
       "<Figure size 504x216 with 1 Axes>"
      ]
     },
     "metadata": {},
     "output_type": "display_data"
    },
    {
     "name": "stdout",
     "output_type": "stream",
     "text": [
      "H0: Banking_Crisis,Level_Country >>>Independent \n",
      "H1: Banking_Crisis,Level_Country >>>Dependent\n",
      "\n",
      "\n",
      "Chi_SqV=14.52965508683507, \n",
      "P_Value=0.00013797050536313657, \n",
      "DF=1\n",
      "\n",
      "\n",
      "reject Null Hypothesis (H0),And favor Alternative \n",
      "(H1): Banking_Crisis,Level_Country >>>Dependent\n",
      "\n",
      "\n",
      "Relationship=96.72678375428329%\n"
     ]
    }
   ],
   "source": [
    "Chi_Sq_indep(\"Banking_Crisis\",\"Level_Country\")"
   ]
  },
  {
   "cell_type": "markdown",
   "id": "8ea46a28",
   "metadata": {
    "slideshow": {
     "slide_type": "slide"
    }
   },
   "source": [
    "<a id='con'></a>\n",
    "### Conclusions\n",
    "#### From the information above it becomes clear that:\n",
    ">- Systemic_Crisis And Gold_Standard >>>Independent > **Relationship=60%**.\n",
    ">- Banking_Crisis And Gold_Standard >>>Independent > **Relationship=16%**.\n",
    ">- Systemic_Crisis And Level_Country >>>Independent > **Relationship=12%**.\n",
    ">- Banking_Crisis And Level_Country >>>Dependent > **Relationship=97%**."
   ]
  }
 ],
 "metadata": {
  "celltoolbar": "Slideshow",
  "hide_input": false,
  "kernelspec": {
   "display_name": "Python 3 (ipykernel)",
   "language": "python",
   "name": "python3"
  },
  "language_info": {
   "codemirror_mode": {
    "name": "ipython",
    "version": 3
   },
   "file_extension": ".py",
   "mimetype": "text/x-python",
   "name": "python",
   "nbconvert_exporter": "python",
   "pygments_lexer": "ipython3",
   "version": "3.9.7"
  }
 },
 "nbformat": 4,
 "nbformat_minor": 5
}
